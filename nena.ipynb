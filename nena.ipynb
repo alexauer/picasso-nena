{
 "cells": [
  {
   "cell_type": "code",
   "execution_count": 1,
   "metadata": {},
   "outputs": [
    {
     "name": "stderr",
     "output_type": "stream",
     "text": [
      "/anaconda3/lib/python3.6/site-packages/h5py/__init__.py:36: FutureWarning: Conversion of the second argument of issubdtype from `float` to `np.floating` is deprecated. In future, it will be treated as `np.float64 == np.dtype(float).type`.\n",
      "  from ._conv import register_converters as _register_converters\n"
     ]
    }
   ],
   "source": [
    "import numpy as _np\n",
    "import numba as _numba\n",
    "import lmfit as _lmfit\n",
    "import h5py as _h5py\n",
    "import matplotlib as mpl\n",
    "import matplotlib.pyplot as plt\n",
    "from scipy.special import iv as _iv\n",
    "import pandas as _pd\n",
    "\n",
    "def loadlocs(path):    \n",
    "    with _h5py.File(path, 'r') as locs_file:\n",
    "        locs = locs_file['locs'][...]\n",
    "    locs = _np.rec.array(locs, dtype=locs.dtype)    # Convert to rec array with fields as attributes\n",
    "    return locs\n",
    "\n",
    "def nena(locs, info, callback=None):\n",
    "    bin_centers, dnfl_ = next_frame_neighbor_distance_histogram(locs, callback)\n",
    "\n",
    "    def func(d, a, s, ac, dc, sc):\n",
    "        f = a * (d / s**2) * _np.exp(-0.5 * d**2 / s**2)\n",
    "        fc = ac * (d / sc**2) * _np.exp(-0.5 * (d**2 + dc**2) / sc**2) * _iv(0, d * dc / sc)\n",
    "        return f + fc\n",
    "\n",
    "    pdf_model = _lmfit.Model(func)\n",
    "    params = _lmfit.Parameters()\n",
    "    area = _np.trapz(dnfl_, bin_centers)\n",
    "    median_lp = _np.mean([_np.median(locs.lpx), _np.median(locs.lpy)])\n",
    "    params.add('a', value=area/2, min=0)\n",
    "    params.add('s', value=median_lp, min=0)\n",
    "    params.add('ac', value=area/2, min=0)\n",
    "    params.add('dc', value=2*median_lp, min=0)\n",
    "    params.add('sc', value=median_lp, min=0)\n",
    "    result = pdf_model.fit(dnfl_, params, d=bin_centers)\n",
    "    return result, result.best_values['s']\n",
    "\n",
    "\n",
    "def next_frame_neighbor_distance_histogram(locs, callback=None):\n",
    "    locs.sort(kind='mergesort', order='frame')\n",
    "    frame = locs.frame\n",
    "    x = locs.x\n",
    "    y = locs.y\n",
    "    if hasattr(locs, 'group'):\n",
    "        group = locs.group\n",
    "    else:\n",
    "        group = _np.zeros(len(locs), dtype=_np.int32)\n",
    "    bin_size = 0.001\n",
    "    d_max = 1.0\n",
    "    return _nfndh(frame, x, y, group, d_max, bin_size, callback)\n",
    "\n",
    "\n",
    "def _nfndh(frame, x, y, group, d_max, bin_size, callback=None):\n",
    "    N = len(frame)\n",
    "    bins = _np.arange(0, d_max, bin_size)\n",
    "    dnfl = _np.zeros(len(bins))\n",
    "    one_percent = int(N / 100)\n",
    "    starts = one_percent * _np.arange(100)\n",
    "    for k, start in enumerate(starts):\n",
    "        for i in range(start, start + one_percent):\n",
    "            _fill_dnfl(N, frame, x, y, group, i, d_max, dnfl, bin_size)\n",
    "        if callback is not None:\n",
    "            callback(k+1)\n",
    "    bin_centers = bins + bin_size / 2\n",
    "    return bin_centers, dnfl\n",
    "\n",
    "\n",
    "@_numba.jit(nopython=True)\n",
    "def _fill_dnfl(N, frame, x, y, group, i, d_max, dnfl, bin_size):\n",
    "    frame_i = frame[i]\n",
    "    x_i = x[i]\n",
    "    y_i = y[i]\n",
    "    group_i = group[i]\n",
    "    min_frame = frame_i + 1\n",
    "    for min_index in range(i + 1, N):\n",
    "        if frame[min_index] >= min_frame:\n",
    "            break\n",
    "    max_frame = frame_i + 1\n",
    "    for max_index in range(min_index, N):\n",
    "        if frame[max_index] > max_frame:\n",
    "            break\n",
    "    d_max_2 = d_max**2\n",
    "    for j in range(min_index, max_index):\n",
    "        if group[j] == group_i:\n",
    "            dx2 = (x_i - x[j])**2\n",
    "            if dx2 <= d_max_2:\n",
    "                dy2 = (y_i - y[j])**2\n",
    "                if dy2 <= d_max_2:\n",
    "                    d = _np.sqrt(dx2 + dy2)\n",
    "                    if d <= d_max:\n",
    "                        bin = int(d / bin_size)\n",
    "                        dnfl[bin] += 1"
   ]
  },
  {
   "cell_type": "code",
   "execution_count": 2,
   "metadata": {},
   "outputs": [],
   "source": [
    "path = './X1.hdf5'\n",
    "\n",
    "locs = loadlocs(path)\n"
   ]
  },
  {
   "cell_type": "code",
   "execution_count": 3,
   "metadata": {},
   "outputs": [],
   "source": [
    "bincenters, dnfl = next_frame_neighbor_distance_histogram(locs)"
   ]
  },
  {
   "cell_type": "code",
   "execution_count": 36,
   "metadata": {},
   "outputs": [],
   "source": []
  },
  {
   "cell_type": "code",
   "execution_count": 38,
   "metadata": {},
   "outputs": [
    {
     "data": {
      "image/png": "[encoded data removed]",
      "text/plain": [
       "<Figure size 720x720 with 1 Axes>"
      ]
     },
     "metadata": {},
     "output_type": "display_data"
    }
   ],
   "source": [
    "df_nena = _pd.DataFrame({\"bincenter\":bincenters[0], \"nena\":dnfl})\n",
    "\n",
    "ax = df_nena.plot.bar(x=\"bincenter\", y=\"nena\", rot=0, figsize=(10,10))"
   ]
  },
  {
   "cell_type": "code",
   "execution_count": 15,
   "metadata": {},
   "outputs": [
    {
     "data": {
      "text/html": [
       "<div>\n",
       "<style scoped>\n",
       "    .dataframe tbody tr th:only-of-type {\n",
       "        vertical-align: middle;\n",
       "    }\n",
       "\n",
       "    .dataframe tbody tr th {\n",
       "        vertical-align: top;\n",
       "    }\n",
       "\n",
       "    .dataframe thead th {\n",
       "        text-align: right;\n",
       "    }\n",
       "</style>\n",
       "<table border=\"1\" class=\"dataframe\">\n",
       "  <thead>\n",
       "    <tr style=\"text-align: right;\">\n",
       "      <th></th>\n",
       "      <th>0</th>\n",
       "    </tr>\n",
       "  </thead>\n",
       "  <tbody>\n",
       "    <tr>\n",
       "      <th>count</th>\n",
       "      <td>1000.000000</td>\n",
       "    </tr>\n",
       "    <tr>\n",
       "      <th>mean</th>\n",
       "      <td>0.500000</td>\n",
       "    </tr>\n",
       "    <tr>\n",
       "      <th>std</th>\n",
       "      <td>0.288819</td>\n",
       "    </tr>\n",
       "    <tr>\n",
       "      <th>min</th>\n",
       "      <td>0.000500</td>\n",
       "    </tr>\n",
       "    <tr>\n",
       "      <th>25%</th>\n",
       "      <td>0.250250</td>\n",
       "    </tr>\n",
       "    <tr>\n",
       "      <th>50%</th>\n",
       "      <td>0.500000</td>\n",
       "    </tr>\n",
       "    <tr>\n",
       "      <th>75%</th>\n",
       "      <td>0.749750</td>\n",
       "    </tr>\n",
       "    <tr>\n",
       "      <th>max</th>\n",
       "      <td>0.999500</td>\n",
       "    </tr>\n",
       "  </tbody>\n",
       "</table>\n",
       "</div>"
      ],
      "text/plain": [
       "                 0\n",
       "count  1000.000000\n",
       "mean      0.500000\n",
       "std       0.288819\n",
       "min       0.000500\n",
       "25%       0.250250\n",
       "50%       0.500000\n",
       "75%       0.749750\n",
       "max       0.999500"
      ]
     },
     "execution_count": 15,
     "metadata": {},
     "output_type": "execute_result"
    }
   ],
   "source": []
  },
  {
   "cell_type": "code",
   "execution_count": null,
   "metadata": {},
   "outputs": [],
   "source": []
  },
  {
   "cell_type": "code",
   "execution_count": 99,
   "metadata": {},
   "outputs": [],
   "source": [
    "##_np.savetxt(\"hist.csv\", _np.c_[bincenters, dnfl], delimiter=\",\")"
   ]
  },
  {
   "cell_type": "code",
   "execution_count": null,
   "metadata": {},
   "outputs": [],
   "source": []
  },
  {
   "cell_type": "code",
   "execution_count": null,
   "metadata": {},
   "outputs": [],
   "source": []
  },
  {
   "cell_type": "code",
   "execution_count": null,
   "metadata": {},
   "outputs": [],
   "source": []
  },
  {
   "cell_type": "code",
   "execution_count": null,
   "metadata": {},
   "outputs": [],
   "source": []
  }
 ],
 "metadata": {
  "kernelspec": {
   "display_name": "Python 3",
   "language": "python",
   "name": "python3"
  },
  "language_info": {
   "codemirror_mode": {
    "name": "ipython",
    "version": 3
   },
   "file_extension": ".py",
   "mimetype": "text/x-python",
   "name": "python",
   "nbconvert_exporter": "python",
   "pygments_lexer": "ipython3",
   "version": "3.6.8"
  }
 },
 "nbformat": 4,
 "nbformat_minor": 2
}
