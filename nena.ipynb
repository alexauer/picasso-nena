{
 "cells": [
  {
   "cell_type": "code",
   "execution_count": 1,
   "metadata": {},
   "outputs": [],
   "source": [
    "import numpy as _np\n",
    "import numba as _numba\n",
    "import lmfit as _lmfit\n",
    "import h5py as _h5py\n",
    "import matplotlib as mpl\n",
    "import matplotlib.pyplot as plt\n",
    "from scipy.special import iv as _iv\n",
    "import pandas as _pd\n",
    "\n",
    "# NeNA functions adopted from picasso source code https://github.com/jungmannlab/picasso\n",
    "\n",
    "def loadlocs(path):    \n",
    "    with _h5py.File(path, 'r') as locs_file:\n",
    "        locs = locs_file['locs'][...]\n",
    "    locs = _np.rec.array(locs, dtype=locs.dtype)    # Convert to rec array with fields as attributes\n",
    "    return locs\n",
    "\n",
    "def nena(locs, callback=None):\n",
    "    bin_centers, dnfl_ = next_frame_neighbor_distance_histogram(locs, callback)\n",
    "\n",
    "    def func(d, a, s, ac, dc, sc):\n",
    "        f = a * (d / s**2) * _np.exp(-0.5 * d**2 / s**2)\n",
    "        fc = ac * (d / sc**2) * _np.exp(-0.5 * (d**2 + dc**2) / sc**2) * _iv(0, d * dc / sc)\n",
    "        return f + fc\n",
    "\n",
    "    pdf_model = _lmfit.Model(func)\n",
    "    params = _lmfit.Parameters()\n",
    "    area = _np.trapz(dnfl_, bin_centers)\n",
    "    median_lp = _np.mean([_np.median(locs.lpx), _np.median(locs.lpy)])\n",
    "    params.add('a', value=area/2, min=0)\n",
    "    params.add('s', value=median_lp, min=0)\n",
    "    params.add('ac', value=area/2, min=0)\n",
    "    params.add('dc', value=2*median_lp, min=0)\n",
    "    params.add('sc', value=median_lp, min=0)\n",
    "    result = pdf_model.fit(dnfl_, params, d=bin_centers)\n",
    "    return result, result.best_values['s']\n",
    "\n",
    "\n",
    "def next_frame_neighbor_distance_histogram(locs, callback=None):\n",
    "    locs.sort(kind='mergesort', order='frame')\n",
    "    frame = locs.frame\n",
    "    x = locs.x\n",
    "    y = locs.y\n",
    "    if hasattr(locs, 'group'):\n",
    "        group = locs.group\n",
    "    else:\n",
    "        group = _np.zeros(len(locs), dtype=_np.int32)\n",
    "    bin_size = 0.001\n",
    "    d_max = 1.0\n",
    "    return _nfndh(frame, x, y, group, d_max, bin_size, callback)\n",
    "\n",
    "\n",
    "def _nfndh(frame, x, y, group, d_max, bin_size, callback=None):\n",
    "    N = len(frame)\n",
    "    bins = _np.arange(0, d_max, bin_size)\n",
    "    dnfl = _np.zeros(len(bins))\n",
    "    one_percent = int(N / 100)\n",
    "    starts = one_percent * _np.arange(100)\n",
    "    for k, start in enumerate(starts):\n",
    "        for i in range(start, start + one_percent):\n",
    "            _fill_dnfl(N, frame, x, y, group, i, d_max, dnfl, bin_size)\n",
    "        if callback is not None:\n",
    "            callback(k+1)\n",
    "    bin_centers = bins + bin_size / 2\n",
    "    return bin_centers, dnfl\n",
    "\n",
    "\n",
    "@_numba.jit(nopython=True)\n",
    "def _fill_dnfl(N, frame, x, y, group, i, d_max, dnfl, bin_size):\n",
    "    frame_i = frame[i]\n",
    "    x_i = x[i]\n",
    "    y_i = y[i]\n",
    "    group_i = group[i]\n",
    "    min_frame = frame_i + 1\n",
    "    for min_index in range(i + 1, N):\n",
    "        if frame[min_index] >= min_frame:\n",
    "            break\n",
    "    max_frame = frame_i + 1\n",
    "    for max_index in range(min_index, N):\n",
    "        if frame[max_index] > max_frame:\n",
    "            break\n",
    "    d_max_2 = d_max**2\n",
    "    for j in range(min_index, max_index):\n",
    "        if group[j] == group_i:\n",
    "            dx2 = (x_i - x[j])**2\n",
    "            if dx2 <= d_max_2:\n",
    "                dy2 = (y_i - y[j])**2\n",
    "                if dy2 <= d_max_2:\n",
    "                    d = _np.sqrt(dx2 + dy2)\n",
    "                    if d <= d_max:\n",
    "                        bin = int(d / bin_size)\n",
    "                        dnfl[bin] += 1"
   ]
  },
  {
   "cell_type": "markdown",
   "metadata": {},
   "source": [
    "### Load locs"
   ]
  },
  {
   "cell_type": "code",
   "execution_count": 156,
   "metadata": {},
   "outputs": [],
   "source": [
    "path = './file.hdf5'\n",
    "\n",
    "locs = loadlocs(path)"
   ]
  },
  {
   "cell_type": "markdown",
   "metadata": {},
   "source": [
    "### Calculate NeNA distribution"
   ]
  },
  {
   "cell_type": "code",
   "execution_count": 148,
   "metadata": {},
   "outputs": [],
   "source": [
    "bincenters, dnfl = next_frame_neighbor_distance_histogram(locs)"
   ]
  },
  {
   "cell_type": "markdown",
   "metadata": {},
   "source": [
    "### Save histogram data"
   ]
  },
  {
   "cell_type": "code",
   "execution_count": 149,
   "metadata": {},
   "outputs": [],
   "source": [
    "_np.savetxt(\"hist_data.csv\", _np.c_[bincenters, dnfl], delimiter=\",\")"
   ]
  },
  {
   "cell_type": "markdown",
   "metadata": {},
   "source": [
    "### Calculate NeNA value"
   ]
  },
  {
   "cell_type": "code",
   "execution_count": 150,
   "metadata": {},
   "outputs": [
    {
     "name": "stdout",
     "output_type": "stream",
     "text": [
      "Fitted NeNA value: 0.01640564709732506 px\n"
     ]
    }
   ],
   "source": [
    "result, best_result = nena(locs)\n",
    "print(\"Fitted NeNA value: {} px\".format(best_result))"
   ]
  },
  {
   "cell_type": "markdown",
   "metadata": {},
   "source": [
    "### Plot histogram and fit data"
   ]
  },
  {
   "cell_type": "code",
   "execution_count": 154,
   "metadata": {},
   "outputs": [
    {
     "data": {
      "image/png": "[encoded data removed]",
      "text/plain": [
       "<Figure size 864x360 with 1 Axes>"
      ]
     },
     "metadata": {
      "needs_background": "light"
     },
     "output_type": "display_data"
    }
   ],
   "source": [
    "df = _pd.DataFrame({\"bincenter\":bincenters,\"nena\":dnfl})\n",
    "\n",
    "bin_step = 0.001 #default picasso value\n",
    "y_max = df.nena.idxmax()\n",
    "x_cut = df[(df.nena < (df.nena.max()*0.01)) & (df.nena.index > y_max)] # find approx 1% of max count\n",
    "x_cut = x_cut.index.min()\n",
    "x_max = x_cut*bin_step\n",
    "\n",
    "plt.figure(figsize=(12,5))\n",
    "\n",
    "plt.plot(df.bincenter,\n",
    "         df.nena,\n",
    "         label='Data',\n",
    "         alpha=0.8)\n",
    "\n",
    "plt.plot(df.bincenter,\n",
    "         result.best_fit,\n",
    "         label='Fit',\n",
    "         alpha=0.8)\n",
    "\n",
    "plt.axvline(best_result,\n",
    "            c='black',\n",
    "            alpha=0.8,\n",
    "            linestyle=\"dashed\",\n",
    "            label='NeNA value')\n",
    "\n",
    "plt.xlim(0, x_max)\n",
    "plt.xlabel('Distance (px)')\n",
    "plt.ylabel('Counts')\n",
    "plt.legend()\n",
    "plt.show()"
   ]
  },
  {
   "cell_type": "markdown",
   "metadata": {},
   "source": [
    "### Print fit parameters"
   ]
  },
  {
   "cell_type": "code",
   "execution_count": 26,
   "metadata": {},
   "outputs": [
    {
     "data": {
      "text/html": [
       "<h2> Model</h2> Model(func) <h2>Fit Statistics</h2><table><tr><td>fitting method</td><td>leastsq</td><td></td></tr><tr><td># function evals</td><td>114</td><td></td></tr><tr><td># data points</td><td>1000</td><td></td></tr><tr><td># variables</td><td>5</td><td></td></tr><tr><td>chi-square</td><td> 176488.374</td><td></td></tr><tr><td>reduced chi-square</td><td> 177.375250</td><td></td></tr><tr><td>Akaike info crit.</td><td> 5183.25500</td><td></td></tr><tr><td>Bayesian info crit.</td><td> 5207.79378</td><td></td></tr></table><h2>Variables</h2><table><tr><th> name </th><th> value </th><th> standard error </th><th> relative error </th><th> initial value </th><th> min </th><th> max </th><th> vary </th></tr><tr><td> a </td><td>  78.7706268 </td><td>  5.22206484 </td><td> (6.63%) </td><td> 69.0785 </td><td>  0.00000000 </td><td>         inf </td><td> True </td></tr><tr><td> s </td><td>  0.02972180 </td><td>  3.2656e-04 </td><td> (1.10%) </td><td> 0.013506385 </td><td>  0.00000000 </td><td>         inf </td><td> True </td></tr><tr><td> ac </td><td>  97.5451005 </td><td>  1193366.97 </td><td> (1223400.21%) </td><td> 69.0785 </td><td>  0.00000000 </td><td>         inf </td><td> True </td></tr><tr><td> dc </td><td>  0.04873468 </td><td>  559.232659 </td><td> (1147504.46%) </td><td> 0.027012769132852554 </td><td>  0.00000000 </td><td>         inf </td><td> True </td></tr><tr><td> sc </td><td>  0.04735156 </td><td>  0.64635759 </td><td> (1365.02%) </td><td> 0.013506385 </td><td>  0.00000000 </td><td>         inf </td><td> True </td></tr></table><h2>Correlations (unreported correlations are < 0.100)</h2><table><tr><td>ac</td><td>dc</td><td>1.0000</td></tr><tr><td>ac</td><td>sc</td><td>-1.0000</td></tr><tr><td>dc</td><td>sc</td><td>-1.0000</td></tr><tr><td>a</td><td>s</td><td>0.9840</td></tr><tr><td>a</td><td>dc</td><td>0.9470</td></tr><tr><td>a</td><td>ac</td><td>0.9470</td></tr><tr><td>a</td><td>sc</td><td>-0.9468</td></tr><tr><td>s</td><td>dc</td><td>0.8891</td></tr><tr><td>s</td><td>ac</td><td>0.8891</td></tr><tr><td>s</td><td>sc</td><td>-0.8889</td></tr></table>"
      ],
      "text/plain": [
       "<lmfit.model.ModelResult at 0x1a21f5db90>"
      ]
     },
     "execution_count": 26,
     "metadata": {},
     "output_type": "execute_result"
    }
   ],
   "source": [
    "result"
   ]
  }
 ],
 "metadata": {
  "kernelspec": {
   "display_name": "Python 3",
   "language": "python",
   "name": "python3"
  },
  "language_info": {
   "codemirror_mode": {
    "name": "ipython",
    "version": 3
   },
   "file_extension": ".py",
   "mimetype": "text/x-python",
   "name": "python",
   "nbconvert_exporter": "python",
   "pygments_lexer": "ipython3",
   "version": "3.6.9"
  }
 },
 "nbformat": 4,
 "nbformat_minor": 2
}
